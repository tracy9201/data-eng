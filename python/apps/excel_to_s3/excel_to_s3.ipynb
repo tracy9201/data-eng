{
 "cells": [
  {
   "cell_type": "markdown",
   "id": "12198d2e-bc9b-4856-9b05-6d969d854f2a",
   "metadata": {},
   "source": [
    "#### _OTECH-2685-create-and-update-public.encr_"
   ]
  },
  {
   "cell_type": "markdown",
   "id": "3b32af58-01ee-4c07-a195-64af4468e161",
   "metadata": {},
   "source": [
    "https://hintmd.atlassian.net/browse/OTECH-2685"
   ]
  },
  {
   "cell_type": "markdown",
   "id": "dc41cc6f-e705-4952-8e69-f000286b8eff",
   "metadata": {},
   "source": [
    "#### _part 1 : write python utility to load data governance csv into s3_"
   ]
  },
  {
   "cell_type": "code",
   "execution_count": 165,
   "id": "d71149a8-9efe-41ad-931d-132edd51ddbc",
   "metadata": {},
   "outputs": [],
   "source": [
    "_pocnumber = '0.0.2'"
   ]
  },
  {
   "cell_type": "code",
   "execution_count": 2,
   "id": "89eafc7c-bf86-4609-b540-cf815badc282",
   "metadata": {},
   "outputs": [],
   "source": [
    "_jiralink = 'https://hintmd.atlassian.net/browse/OTECH-2685'"
   ]
  },
  {
   "cell_type": "code",
   "execution_count": 48,
   "id": "3d5768d6-ce74-4b0f-bc0c-fe1755eb1f56",
   "metadata": {},
   "outputs": [],
   "source": [
    "import sys\n",
    "import json\n",
    "import os \n",
    "import logging\n",
    "import xlrd\n",
    "import pandas as pd\n",
    "import numpy as np\n",
    "import platform"
   ]
  },
  {
   "cell_type": "code",
   "execution_count": 4,
   "id": "e1d9fe86-3ca6-4599-86c7-2b7f49f3c56c",
   "metadata": {},
   "outputs": [],
   "source": [
    "from typing import cast, Sequence, Optional, Any, Dict, List, Union\n",
    "from datetime import datetime\n",
    "from pprint import pprint"
   ]
  },
  {
   "cell_type": "code",
   "execution_count": 5,
   "id": "5f4cfaf7-c759-4d70-905d-a49fe0d40b2b",
   "metadata": {},
   "outputs": [],
   "source": [
    "logging.basicConfig(stream=sys.stdout,level=logging.INFO)\n",
    "logger = logging.getLogger(__name__)\n",
    "handler = logging.StreamHandler()\n",
    "formatter = logging.Formatter(\n",
    "        '%(asctime)s %(name)s %(levelname)s %(message)s')\n",
    "handler.setFormatter(formatter)\n",
    "logger.addHandler(handler)\n",
    "logger.propagate = False"
   ]
  },
  {
   "cell_type": "code",
   "execution_count": 6,
   "id": "12f2773e-a92f-4720-a3e4-81366a029c55",
   "metadata": {},
   "outputs": [
    {
     "data": {
      "text/plain": [
       "datetime.datetime(2021, 12, 1, 12, 35, 37, 364578)"
      ]
     },
     "execution_count": 6,
     "metadata": {},
     "output_type": "execute_result"
    }
   ],
   "source": [
    "_today = datetime.today()\n",
    "_today"
   ]
  },
  {
   "cell_type": "code",
   "execution_count": 7,
   "id": "1869ff55-ee75-4b1a-b4a1-3355b1e84d35",
   "metadata": {},
   "outputs": [
    {
     "name": "stderr",
     "output_type": "stream",
     "text": [
      "2021-12-01 12:35:37,376 __main__ INFO test logger.info\n"
     ]
    }
   ],
   "source": [
    "logger.info(f'test logger.info')"
   ]
  },
  {
   "cell_type": "code",
   "execution_count": 8,
   "id": "8166d47e-23ae-4da8-a6f9-9c32d9d76d5f",
   "metadata": {},
   "outputs": [],
   "source": [
    "_dir = os.getcwd()"
   ]
  },
  {
   "cell_type": "code",
   "execution_count": 9,
   "id": "3e5997d6-bdcc-45d0-84eb-4d70158712aa",
   "metadata": {},
   "outputs": [
    {
     "name": "stderr",
     "output_type": "stream",
     "text": [
      "2021-12-01 12:35:37,384 __main__ INFO current working directory /Users/joe.shea/excel_to_s3\n"
     ]
    }
   ],
   "source": [
    "logger.info(f'current working directory {_dir}')"
   ]
  },
  {
   "cell_type": "code",
   "execution_count": 10,
   "id": "2e538451-5c3e-470b-876b-b00f64321a3f",
   "metadata": {},
   "outputs": [],
   "source": [
    "def get_script_path():\n",
    "    return os.path.dirname(os.path.realpath(sys.argv[0]))"
   ]
  },
  {
   "cell_type": "code",
   "execution_count": 11,
   "id": "8073aa0b-f3d7-4069-b1f1-1bd50eb1c3df",
   "metadata": {},
   "outputs": [],
   "source": [
    "_scriptpath = get_script_path()"
   ]
  },
  {
   "cell_type": "code",
   "execution_count": 12,
   "id": "dd9d44a9-29d7-479e-a9cb-c5b9c1cf7a51",
   "metadata": {},
   "outputs": [
    {
     "name": "stderr",
     "output_type": "stream",
     "text": [
      "2021-12-01 12:35:37,398 __main__ INFO script path /Users/joe.shea/Library/Python/3.8/lib/python/site-packages\n"
     ]
    }
   ],
   "source": [
    "logger.info(f'script path {_scriptpath}')"
   ]
  },
  {
   "cell_type": "code",
   "execution_count": 51,
   "id": "556ac853-bec3-496a-a323-0019a868541a",
   "metadata": {},
   "outputs": [
    {
     "name": "stderr",
     "output_type": "stream",
     "text": [
      "2021-12-01 13:25:57,165 __main__ INFO Python version: 3.8.9\n"
     ]
    }
   ],
   "source": [
    "logger.info(f'Python version: {platform.python_version()}')"
   ]
  },
  {
   "cell_type": "code",
   "execution_count": 52,
   "id": "077f060b-a063-44b4-b9b7-08502a1f1fd9",
   "metadata": {},
   "outputs": [
    {
     "name": "stderr",
     "output_type": "stream",
     "text": [
      "2021-12-01 13:26:03,517 __main__ INFO pandas version 1.3.4\n"
     ]
    }
   ],
   "source": [
    "logger.info(f'pandas version {pd.__version__}')"
   ]
  },
  {
   "cell_type": "markdown",
   "id": "10454f94-2164-4119-8d2d-4543ac456747",
   "metadata": {},
   "source": [
    "## ***inputs***"
   ]
  },
  {
   "cell_type": "code",
   "execution_count": 13,
   "id": "36cfee89-309d-4209-8aa9-b45c10c2a358",
   "metadata": {},
   "outputs": [],
   "source": [
    "_actor = 'joe.shea@revance.com'"
   ]
  },
  {
   "cell_type": "code",
   "execution_count": 14,
   "id": "63b58245-861a-4113-8e43-2573d1eae8d1",
   "metadata": {},
   "outputs": [],
   "source": [
    "inserted_by = _actor"
   ]
  },
  {
   "cell_type": "code",
   "execution_count": 15,
   "id": "45388337-3259-4aae-8453-19b787225974",
   "metadata": {},
   "outputs": [],
   "source": [
    "updated_by = _actor"
   ]
  },
  {
   "cell_type": "code",
   "execution_count": 16,
   "id": "ec9e97d6-a81d-4e7b-8fb4-e55ed768a4f5",
   "metadata": {},
   "outputs": [],
   "source": [
    "inserted_comment = _jiralink"
   ]
  },
  {
   "cell_type": "code",
   "execution_count": 17,
   "id": "d5b114dd-65e7-467e-93fe-668a13210775",
   "metadata": {},
   "outputs": [],
   "source": [
    "_file = 'OLTP_20211124.xlsx'"
   ]
  },
  {
   "cell_type": "code",
   "execution_count": 18,
   "id": "47d9e1a8-1a30-448c-9c1f-74015b10208e",
   "metadata": {},
   "outputs": [],
   "source": [
    "_env_type = 'OLTP'"
   ]
  },
  {
   "cell_type": "code",
   "execution_count": 19,
   "id": "4ea953a7-fd13-4ef8-94ff-9de0df65a6ff",
   "metadata": {},
   "outputs": [],
   "source": [
    "_env_dbtype = 'postgres'"
   ]
  },
  {
   "cell_type": "code",
   "execution_count": 20,
   "id": "e92c4d45-6d07-430c-825c-5330033828b0",
   "metadata": {},
   "outputs": [
    {
     "name": "stderr",
     "output_type": "stream",
     "text": [
      "2021-12-01 12:35:37,439 __main__ INFO data governance file:OLTP_20211124.xlsx\n"
     ]
    }
   ],
   "source": [
    "logger.info(f'data governance file:{_file}')"
   ]
  },
  {
   "cell_type": "code",
   "execution_count": 55,
   "id": "d2d66d9f-37eb-4478-ad37-a0ee43b8dd30",
   "metadata": {},
   "outputs": [],
   "source": [
    "_filesplit  =_file.split('.')"
   ]
  },
  {
   "cell_type": "code",
   "execution_count": 56,
   "id": "1c4d7771-685e-4b17-910c-8f462bb4fe6f",
   "metadata": {},
   "outputs": [
    {
     "data": {
      "text/plain": [
       "['OLTP_20211124', 'xlsx']"
      ]
     },
     "execution_count": 56,
     "metadata": {},
     "output_type": "execute_result"
    }
   ],
   "source": [
    "_filesplit"
   ]
  },
  {
   "cell_type": "code",
   "execution_count": 21,
   "id": "9bd29c1b-ecbf-4555-b13e-a7794b14b489",
   "metadata": {},
   "outputs": [
    {
     "data": {
      "text/plain": [
       "dict_keys(['gaia', 'kronos', 'p2pe', 'merchant', 'odf', 'chargeback', 'card', 'catalog', 'payment'])"
      ]
     },
     "execution_count": 21,
     "metadata": {},
     "output_type": "execute_result"
    }
   ],
   "source": [
    "xls = pd.ExcelFile(f'{_dir}/{_file}')\n",
    "df = {sh.strip():xls.parse(sh) for i, sh in enumerate(xls.sheet_names)}\n",
    "df.keys()"
   ]
  },
  {
   "cell_type": "code",
   "execution_count": 22,
   "id": "78bf4d70-b378-414f-90b2-40c75fe0c12f",
   "metadata": {},
   "outputs": [],
   "source": [
    "assert len(df.keys()) == 9 ,\"expecting dict_keys(['gaia', 'kronos', 'p2pe', 'merchant', 'odf', 'chargeback', 'card', 'catalog', 'payment'])\""
   ]
  },
  {
   "cell_type": "code",
   "execution_count": 23,
   "id": "7c2f7ca7-4882-4028-a8cc-71742fec0b1c",
   "metadata": {},
   "outputs": [
    {
     "data": {
      "text/plain": [
       "dict"
      ]
     },
     "execution_count": 23,
     "metadata": {},
     "output_type": "execute_result"
    }
   ],
   "source": [
    "type(df)"
   ]
  },
  {
   "cell_type": "code",
   "execution_count": 24,
   "id": "f7342d43-5f26-417b-978e-5ab5623ddee5",
   "metadata": {},
   "outputs": [
    {
     "data": {
      "text/plain": [
       "pandas.core.frame.DataFrame"
      ]
     },
     "execution_count": 24,
     "metadata": {},
     "output_type": "execute_result"
    }
   ],
   "source": [
    "type(df['gaia'])"
   ]
  },
  {
   "cell_type": "code",
   "execution_count": 67,
   "id": "04ba0fea-e3bc-4de5-871e-70c47f3f2fed",
   "metadata": {},
   "outputs": [],
   "source": [
    "_currentIndex = 0"
   ]
  },
  {
   "cell_type": "code",
   "execution_count": 68,
   "id": "d2b0cac9-dc48-4cae-b7ee-954c3d0363a0",
   "metadata": {},
   "outputs": [
    {
     "data": {
      "text/plain": [
       "'gaia'"
      ]
     },
     "execution_count": 68,
     "metadata": {},
     "output_type": "execute_result"
    }
   ],
   "source": [
    "list(df.keys())[_currentIndex ]"
   ]
  },
  {
   "cell_type": "code",
   "execution_count": 69,
   "id": "53fcbac9-2276-4a80-988c-aa6c762b88e4",
   "metadata": {},
   "outputs": [],
   "source": [
    "_currentService = list(df.keys())[_currentIndex ]"
   ]
  },
  {
   "cell_type": "code",
   "execution_count": 25,
   "id": "f5e14005-677b-4ddf-913c-6e00c7d4ba52",
   "metadata": {},
   "outputs": [
    {
     "name": "stdout",
     "output_type": "stream",
     "text": [
      "<class 'pandas.core.frame.DataFrame'>\n",
      "RangeIndex: 860 entries, 0 to 859\n",
      "Data columns (total 11 columns):\n",
      " #   Column                    Non-Null Count  Dtype  \n",
      "---  ------                    --------------  -----  \n",
      " 0   host                      860 non-null    object \n",
      " 1   env                       860 non-null    object \n",
      " 2   service                   860 non-null    object \n",
      " 3   table_catalog             860 non-null    object \n",
      " 4   schemaname                860 non-null    object \n",
      " 5   table_name                860 non-null    object \n",
      " 6   column_name               860 non-null    object \n",
      " 7   data_type                 860 non-null    object \n",
      " 8   character_maximum_length  228 non-null    float64\n",
      " 9   sensitive_data_type       39 non-null     object \n",
      " 10  comment(s)                42 non-null     object \n",
      "dtypes: float64(1), object(10)\n",
      "memory usage: 74.0+ KB\n"
     ]
    }
   ],
   "source": [
    "df['gaia'].info()"
   ]
  },
  {
   "cell_type": "code",
   "execution_count": 26,
   "id": "92ebc2ef-bff4-45a6-be86-c9654f25d5bd",
   "metadata": {},
   "outputs": [
    {
     "data": {
      "text/html": [
       "<div>\n",
       "<style scoped>\n",
       "    .dataframe tbody tr th:only-of-type {\n",
       "        vertical-align: middle;\n",
       "    }\n",
       "\n",
       "    .dataframe tbody tr th {\n",
       "        vertical-align: top;\n",
       "    }\n",
       "\n",
       "    .dataframe thead th {\n",
       "        text-align: right;\n",
       "    }\n",
       "</style>\n",
       "<table border=\"1\" class=\"dataframe\">\n",
       "  <thead>\n",
       "    <tr style=\"text-align: right;\">\n",
       "      <th></th>\n",
       "      <th>host</th>\n",
       "      <th>env</th>\n",
       "      <th>service</th>\n",
       "      <th>table_catalog</th>\n",
       "      <th>schemaname</th>\n",
       "      <th>table_name</th>\n",
       "      <th>column_name</th>\n",
       "      <th>data_type</th>\n",
       "      <th>character_maximum_length</th>\n",
       "      <th>sensitive_data_type</th>\n",
       "      <th>comment(s)</th>\n",
       "    </tr>\n",
       "  </thead>\n",
       "  <tbody>\n",
       "    <tr>\n",
       "      <th>0</th>\n",
       "      <td>hintdb-atlas.cluster-ro-cxfeateo6sft.us-east-1...</td>\n",
       "      <td>utah</td>\n",
       "      <td>gaia</td>\n",
       "      <td>utah-gaia</td>\n",
       "      <td>public</td>\n",
       "      <td>account</td>\n",
       "      <td>name</td>\n",
       "      <td>text</td>\n",
       "      <td>NaN</td>\n",
       "      <td>NaN</td>\n",
       "      <td>NaN</td>\n",
       "    </tr>\n",
       "    <tr>\n",
       "      <th>1</th>\n",
       "      <td>hintdb-atlas.cluster-ro-cxfeateo6sft.us-east-1...</td>\n",
       "      <td>utah</td>\n",
       "      <td>gaia</td>\n",
       "      <td>utah-gaia</td>\n",
       "      <td>public</td>\n",
       "      <td>account</td>\n",
       "      <td>business_id</td>\n",
       "      <td>character varying</td>\n",
       "      <td>255.0</td>\n",
       "      <td>NaN</td>\n",
       "      <td>NaN</td>\n",
       "    </tr>\n",
       "    <tr>\n",
       "      <th>2</th>\n",
       "      <td>hintdb-atlas.cluster-ro-cxfeateo6sft.us-east-1...</td>\n",
       "      <td>utah</td>\n",
       "      <td>gaia</td>\n",
       "      <td>utah-gaia</td>\n",
       "      <td>public</td>\n",
       "      <td>account</td>\n",
       "      <td>bank_name</td>\n",
       "      <td>character varying</td>\n",
       "      <td>255.0</td>\n",
       "      <td>UNCATEGORIZED</td>\n",
       "      <td>did not see any data</td>\n",
       "    </tr>\n",
       "    <tr>\n",
       "      <th>3</th>\n",
       "      <td>hintdb-atlas.cluster-ro-cxfeateo6sft.us-east-1...</td>\n",
       "      <td>utah</td>\n",
       "      <td>gaia</td>\n",
       "      <td>utah-gaia</td>\n",
       "      <td>public</td>\n",
       "      <td>account</td>\n",
       "      <td>bank_account</td>\n",
       "      <td>character varying</td>\n",
       "      <td>255.0</td>\n",
       "      <td>UNCATEGORIZED</td>\n",
       "      <td>did not see any data</td>\n",
       "    </tr>\n",
       "    <tr>\n",
       "      <th>4</th>\n",
       "      <td>hintdb-atlas.cluster-ro-cxfeateo6sft.us-east-1...</td>\n",
       "      <td>utah</td>\n",
       "      <td>gaia</td>\n",
       "      <td>utah-gaia</td>\n",
       "      <td>public</td>\n",
       "      <td>account</td>\n",
       "      <td>bank_routing</td>\n",
       "      <td>character varying</td>\n",
       "      <td>255.0</td>\n",
       "      <td>UNCATEGORIZED</td>\n",
       "      <td>did not see any data</td>\n",
       "    </tr>\n",
       "  </tbody>\n",
       "</table>\n",
       "</div>"
      ],
      "text/plain": [
       "                                                host   env service  \\\n",
       "0  hintdb-atlas.cluster-ro-cxfeateo6sft.us-east-1...  utah    gaia   \n",
       "1  hintdb-atlas.cluster-ro-cxfeateo6sft.us-east-1...  utah    gaia   \n",
       "2  hintdb-atlas.cluster-ro-cxfeateo6sft.us-east-1...  utah    gaia   \n",
       "3  hintdb-atlas.cluster-ro-cxfeateo6sft.us-east-1...  utah    gaia   \n",
       "4  hintdb-atlas.cluster-ro-cxfeateo6sft.us-east-1...  utah    gaia   \n",
       "\n",
       "  table_catalog schemaname table_name   column_name          data_type  \\\n",
       "0     utah-gaia     public    account          name               text   \n",
       "1     utah-gaia     public    account   business_id  character varying   \n",
       "2     utah-gaia     public    account     bank_name  character varying   \n",
       "3     utah-gaia     public    account  bank_account  character varying   \n",
       "4     utah-gaia     public    account  bank_routing  character varying   \n",
       "\n",
       "   character_maximum_length sensitive_data_type            comment(s)  \n",
       "0                       NaN                 NaN                   NaN  \n",
       "1                     255.0                 NaN                   NaN  \n",
       "2                     255.0       UNCATEGORIZED  did not see any data  \n",
       "3                     255.0       UNCATEGORIZED  did not see any data  \n",
       "4                     255.0       UNCATEGORIZED  did not see any data  "
      ]
     },
     "execution_count": 26,
     "metadata": {},
     "output_type": "execute_result"
    }
   ],
   "source": [
    "df['gaia'].head()"
   ]
  },
  {
   "cell_type": "code",
   "execution_count": 27,
   "id": "0fa51cf6-431d-456d-8101-2a1c7f9afa15",
   "metadata": {},
   "outputs": [
    {
     "data": {
      "text/html": [
       "<div>\n",
       "<style scoped>\n",
       "    .dataframe tbody tr th:only-of-type {\n",
       "        vertical-align: middle;\n",
       "    }\n",
       "\n",
       "    .dataframe tbody tr th {\n",
       "        vertical-align: top;\n",
       "    }\n",
       "\n",
       "    .dataframe thead th {\n",
       "        text-align: right;\n",
       "    }\n",
       "</style>\n",
       "<table border=\"1\" class=\"dataframe\">\n",
       "  <thead>\n",
       "    <tr style=\"text-align: right;\">\n",
       "      <th></th>\n",
       "      <th>host</th>\n",
       "      <th>env</th>\n",
       "      <th>service</th>\n",
       "      <th>table_catalog</th>\n",
       "      <th>schemaname</th>\n",
       "      <th>table_name</th>\n",
       "      <th>column_name</th>\n",
       "      <th>data_type</th>\n",
       "      <th>character_maximum_length</th>\n",
       "      <th>sensitive_data_type</th>\n",
       "      <th>comment(s)</th>\n",
       "    </tr>\n",
       "  </thead>\n",
       "  <tbody>\n",
       "    <tr>\n",
       "      <th>855</th>\n",
       "      <td>hintdb-atlas.cluster-ro-cxfeateo6sft.us-east-1...</td>\n",
       "      <td>utah</td>\n",
       "      <td>gaia</td>\n",
       "      <td>utah-gaia</td>\n",
       "      <td>public</td>\n",
       "      <td>userfield</td>\n",
       "      <td>canceled_at</td>\n",
       "      <td>timestamp without time zone</td>\n",
       "      <td>NaN</td>\n",
       "      <td>NaN</td>\n",
       "      <td>NaN</td>\n",
       "    </tr>\n",
       "    <tr>\n",
       "      <th>856</th>\n",
       "      <td>hintdb-atlas.cluster-ro-cxfeateo6sft.us-east-1...</td>\n",
       "      <td>utah</td>\n",
       "      <td>gaia</td>\n",
       "      <td>utah-gaia</td>\n",
       "      <td>public</td>\n",
       "      <td>userfield</td>\n",
       "      <td>deleted_at</td>\n",
       "      <td>timestamp without time zone</td>\n",
       "      <td>NaN</td>\n",
       "      <td>NaN</td>\n",
       "      <td>NaN</td>\n",
       "    </tr>\n",
       "    <tr>\n",
       "      <th>857</th>\n",
       "      <td>hintdb-atlas.cluster-ro-cxfeateo6sft.us-east-1...</td>\n",
       "      <td>utah</td>\n",
       "      <td>gaia</td>\n",
       "      <td>utah-gaia</td>\n",
       "      <td>public</td>\n",
       "      <td>userfield</td>\n",
       "      <td>encrypted_ref_id</td>\n",
       "      <td>character varying</td>\n",
       "      <td>NaN</td>\n",
       "      <td>NaN</td>\n",
       "      <td>NaN</td>\n",
       "    </tr>\n",
       "    <tr>\n",
       "      <th>858</th>\n",
       "      <td>hintdb-atlas.cluster-ro-cxfeateo6sft.us-east-1...</td>\n",
       "      <td>utah</td>\n",
       "      <td>gaia</td>\n",
       "      <td>utah-gaia</td>\n",
       "      <td>public</td>\n",
       "      <td>userfield</td>\n",
       "      <td>status</td>\n",
       "      <td>smallint</td>\n",
       "      <td>NaN</td>\n",
       "      <td>NaN</td>\n",
       "      <td>NaN</td>\n",
       "    </tr>\n",
       "    <tr>\n",
       "      <th>859</th>\n",
       "      <td>hintdb-atlas.cluster-ro-cxfeateo6sft.us-east-1...</td>\n",
       "      <td>utah</td>\n",
       "      <td>gaia</td>\n",
       "      <td>utah-gaia</td>\n",
       "      <td>public</td>\n",
       "      <td>userfield</td>\n",
       "      <td>id</td>\n",
       "      <td>bigint</td>\n",
       "      <td>NaN</td>\n",
       "      <td>NaN</td>\n",
       "      <td>NaN</td>\n",
       "    </tr>\n",
       "  </tbody>\n",
       "</table>\n",
       "</div>"
      ],
      "text/plain": [
       "                                                  host   env service  \\\n",
       "855  hintdb-atlas.cluster-ro-cxfeateo6sft.us-east-1...  utah    gaia   \n",
       "856  hintdb-atlas.cluster-ro-cxfeateo6sft.us-east-1...  utah    gaia   \n",
       "857  hintdb-atlas.cluster-ro-cxfeateo6sft.us-east-1...  utah    gaia   \n",
       "858  hintdb-atlas.cluster-ro-cxfeateo6sft.us-east-1...  utah    gaia   \n",
       "859  hintdb-atlas.cluster-ro-cxfeateo6sft.us-east-1...  utah    gaia   \n",
       "\n",
       "    table_catalog schemaname table_name       column_name  \\\n",
       "855     utah-gaia     public  userfield       canceled_at   \n",
       "856     utah-gaia     public  userfield        deleted_at   \n",
       "857     utah-gaia     public  userfield  encrypted_ref_id   \n",
       "858     utah-gaia     public  userfield            status   \n",
       "859     utah-gaia     public  userfield                id   \n",
       "\n",
       "                       data_type  character_maximum_length  \\\n",
       "855  timestamp without time zone                       NaN   \n",
       "856  timestamp without time zone                       NaN   \n",
       "857            character varying                       NaN   \n",
       "858                     smallint                       NaN   \n",
       "859                       bigint                       NaN   \n",
       "\n",
       "    sensitive_data_type comment(s)  \n",
       "855                 NaN        NaN  \n",
       "856                 NaN        NaN  \n",
       "857                 NaN        NaN  \n",
       "858                 NaN        NaN  \n",
       "859                 NaN        NaN  "
      ]
     },
     "execution_count": 27,
     "metadata": {},
     "output_type": "execute_result"
    }
   ],
   "source": [
    "df['gaia'].tail()"
   ]
  },
  {
   "cell_type": "code",
   "execution_count": 28,
   "id": "bc2e0c37-7fa5-452c-89a3-6852e49889ef",
   "metadata": {},
   "outputs": [
    {
     "data": {
      "text/plain": [
       "['host',\n",
       " 'env',\n",
       " 'service',\n",
       " 'table_catalog',\n",
       " 'schemaname',\n",
       " 'table_name',\n",
       " 'column_name',\n",
       " 'data_type',\n",
       " 'character_maximum_length',\n",
       " 'sensitive_data_type',\n",
       " 'comment(s)']"
      ]
     },
     "execution_count": 28,
     "metadata": {},
     "output_type": "execute_result"
    }
   ],
   "source": [
    "list(df['gaia'].columns)"
   ]
  },
  {
   "cell_type": "code",
   "execution_count": 29,
   "id": "0c3570fd-bfcb-4d44-94cd-8a7e06f55830",
   "metadata": {},
   "outputs": [],
   "source": [
    "df['gaia'].drop('comment(s)', axis=1, inplace=True)"
   ]
  },
  {
   "cell_type": "code",
   "execution_count": 30,
   "id": "0f055037-7505-4e33-a5fe-ec6c3b43c9ff",
   "metadata": {},
   "outputs": [],
   "source": [
    "df['gaia'].drop('service', axis=1, inplace=True)"
   ]
  },
  {
   "cell_type": "code",
   "execution_count": 82,
   "id": "6de9e83f-04dd-425a-ab47-9e706182307e",
   "metadata": {},
   "outputs": [],
   "source": [
    "_none = None"
   ]
  },
  {
   "cell_type": "markdown",
   "id": "1927b1ba-c240-4637-b3bd-f99f1f1c8ba6",
   "metadata": {},
   "source": [
    "<i>__change column names to match redshift control table__</i>"
   ]
  },
  {
   "cell_type": "markdown",
   "id": "7bf30a9e-6dc5-4d34-991d-098c7599040b",
   "metadata": {},
   "source": [
    "<i>SELECT id, \"_env_dw\", \"_env_type\", \"_env_dbtype\", \"_host\", \"_database\", \"_schema\", \"_table\", \"_column\", \"_columnlength\", sensitive_data_type, is_ready_for_encryption, is_encrypted, encryption_start, encryption_end, encrypted_row_count, code_message, is_encryption_confirmed, encryption_audit_by, encryption_audit_on, encryption_audit_comment, is_ready_for_transfer, inserted_by, inserted_on, inserted_comment, updated_by, updated_on, updated_comment, \"_columntype\", \"_columnfeed\"\n",
    "FROM public.encrypt_sensitive_data_ctl;<i/>"
   ]
  },
  {
   "cell_type": "code",
   "execution_count": 31,
   "id": "e463cecf-67b4-4999-b1fc-5bd7b2eb2a62",
   "metadata": {},
   "outputs": [],
   "source": [
    "df['gaia'].rename(columns={'host': '_host', 'env': '_env_dw','table_catalog': '_database','schemaname': '_schema','table_name': '_table','column_name': '_column','character_maximum_length': '_columnlength','sensitive_data_type': 'sensitive_data_type'}, inplace=True) "
   ]
  },
  {
   "cell_type": "code",
   "execution_count": 32,
   "id": "65518f73-3839-4c31-a78e-23c137f42472",
   "metadata": {},
   "outputs": [],
   "source": [
    "df['gaia'].rename(columns={'data_type': '_columntype'}, inplace=True) "
   ]
  },
  {
   "cell_type": "code",
   "execution_count": 33,
   "id": "7bf91178-5c48-4c7b-8928-1c0f28824ce6",
   "metadata": {},
   "outputs": [],
   "source": [
    "df['gaia'].insert(len(df['gaia'].columns), 'inserted_by', inserted_by )"
   ]
  },
  {
   "cell_type": "code",
   "execution_count": 34,
   "id": "b90c7de1-5c6c-4146-81a5-1edffd60974c",
   "metadata": {},
   "outputs": [],
   "source": [
    "df['gaia'].insert(len(df['gaia'].columns), 'updated_by', updated_by )"
   ]
  },
  {
   "cell_type": "code",
   "execution_count": 35,
   "id": "7d380857-2328-46ae-bb17-c7e6e7c71e8c",
   "metadata": {},
   "outputs": [],
   "source": [
    "df['gaia'].insert(len(df['gaia'].columns), 'inserted_comment',  inserted_comment)"
   ]
  },
  {
   "cell_type": "code",
   "execution_count": 36,
   "id": "3624945c-6c20-4397-9aef-1187769d675e",
   "metadata": {},
   "outputs": [],
   "source": [
    "df['gaia'].insert(len(df['gaia'].columns), '_env_type',  _env_type)"
   ]
  },
  {
   "cell_type": "code",
   "execution_count": 37,
   "id": "e5bee6a2-c1bb-4978-981a-54c5cd9ed977",
   "metadata": {},
   "outputs": [],
   "source": [
    "df['gaia'].insert(len(df['gaia'].columns), '_env_dbtype',  _env_dbtype)"
   ]
  },
  {
   "cell_type": "code",
   "execution_count": 83,
   "id": "00c4874b-d607-4ae4-8c23-b06ae7057ba1",
   "metadata": {},
   "outputs": [],
   "source": [
    "df['gaia'].insert(len(df['gaia'].columns), 'id',  _none)"
   ]
  },
  {
   "cell_type": "code",
   "execution_count": 84,
   "id": "f2f436fb-8415-49fc-8da2-676b9a733251",
   "metadata": {},
   "outputs": [],
   "source": [
    "df['gaia'].insert(len(df['gaia'].columns), 'is_ready_for_encryption',  True)"
   ]
  },
  {
   "cell_type": "code",
   "execution_count": 85,
   "id": "0794f212-46c9-41be-8299-6317ade044b0",
   "metadata": {},
   "outputs": [],
   "source": [
    "df['gaia'].insert(len(df['gaia'].columns), 'is_encrypted',  False)"
   ]
  },
  {
   "cell_type": "code",
   "execution_count": 86,
   "id": "81e6a2a9-da9a-4d9e-9852-058425f323a7",
   "metadata": {},
   "outputs": [],
   "source": [
    "df['gaia'].insert(len(df['gaia'].columns), 'encryption_start',  _none)"
   ]
  },
  {
   "cell_type": "code",
   "execution_count": 87,
   "id": "a70c0ff8-f888-44de-b00c-0da2ca7dacc2",
   "metadata": {},
   "outputs": [],
   "source": [
    "df['gaia'].insert(len(df['gaia'].columns), 'encryption_end', _none )"
   ]
  },
  {
   "cell_type": "code",
   "execution_count": 88,
   "id": "adb2c8ca-e6f8-41c1-896e-928850dc9ca4",
   "metadata": {},
   "outputs": [],
   "source": [
    "df['gaia'].insert(len(df['gaia'].columns), 'encrypted_row_count',  _none)"
   ]
  },
  {
   "cell_type": "code",
   "execution_count": 89,
   "id": "2b9100eb-b91b-4685-931d-5949d392f9e5",
   "metadata": {},
   "outputs": [],
   "source": [
    "df['gaia'].insert(len(df['gaia'].columns), 'code_message', _none )"
   ]
  },
  {
   "cell_type": "code",
   "execution_count": 90,
   "id": "47ef1c60-a0a5-40d7-b499-99544a0d4936",
   "metadata": {},
   "outputs": [],
   "source": [
    "df['gaia'].insert(len(df['gaia'].columns), 'is_encryption_confirmed',False  )"
   ]
  },
  {
   "cell_type": "code",
   "execution_count": 91,
   "id": "cde561cc-c79e-4bba-b55a-4e6803f4fb07",
   "metadata": {},
   "outputs": [],
   "source": [
    "df['gaia'].insert(len(df['gaia'].columns), 'encryption_audit_by', _none )"
   ]
  },
  {
   "cell_type": "code",
   "execution_count": 92,
   "id": "96ccce81-f0c2-419a-8eaf-f747db9389fd",
   "metadata": {},
   "outputs": [],
   "source": [
    "df['gaia'].insert(len(df['gaia'].columns), 'encryption_audit_on', _none )"
   ]
  },
  {
   "cell_type": "code",
   "execution_count": 93,
   "id": "44185d33-0716-4a81-86b3-e4ebbbdde862",
   "metadata": {},
   "outputs": [],
   "source": [
    "df['gaia'].insert(len(df['gaia'].columns), 'encryption_audit_comment', _none )"
   ]
  },
  {
   "cell_type": "code",
   "execution_count": 108,
   "id": "c4489a35-8af9-41e7-b209-2eb681edf7c3",
   "metadata": {},
   "outputs": [],
   "source": [
    "df['gaia'].insert(len(df['gaia'].columns), 'is_ready_for_transfer', False )"
   ]
  },
  {
   "cell_type": "code",
   "execution_count": 115,
   "id": "97e5a605-6473-402b-b888-87c88c6788f0",
   "metadata": {},
   "outputs": [],
   "source": [
    "df['gaia'].insert(len(df['gaia'].columns), 'inserted_on', _none )"
   ]
  },
  {
   "cell_type": "code",
   "execution_count": 96,
   "id": "f4e010d9-cb9d-4c25-8954-536e73c25484",
   "metadata": {},
   "outputs": [],
   "source": [
    "df['gaia'].insert(len(df['gaia'].columns), 'updated_on', _none )"
   ]
  },
  {
   "cell_type": "code",
   "execution_count": 97,
   "id": "5a45bada-fe58-4f88-b314-52e439758fbd",
   "metadata": {},
   "outputs": [],
   "source": [
    "df['gaia'].insert(len(df['gaia'].columns), 'updated_comment', _none )"
   ]
  },
  {
   "cell_type": "code",
   "execution_count": 98,
   "id": "6d56a022-81bf-467c-9d11-54aed9237f2e",
   "metadata": {},
   "outputs": [],
   "source": [
    "df['gaia'].insert(len(df['gaia'].columns), '_columnfeed',  _none)"
   ]
  },
  {
   "cell_type": "markdown",
   "id": "bc88559c-3b81-41a2-a4a8-8f80a67bff09",
   "metadata": {},
   "source": [
    "<i> __reorder columns__ </i>"
   ]
  },
  {
   "cell_type": "code",
   "execution_count": 116,
   "id": "f8a806a5-8e45-4ae7-905c-73ef4ca0cb88",
   "metadata": {},
   "outputs": [],
   "source": [
    "df['gaia'] = df['gaia'][[ 'id','_env_dw','_env_type','_env_dbtype','_host', '_database','_schema','_table','_column','_columnlength','sensitive_data_type','is_ready_for_encryption','is_encrypted','encryption_start', 'encryption_end','encrypted_row_count','code_message','is_encryption_confirmed','encryption_audit_by','encryption_audit_on','encryption_audit_comment','is_ready_for_transfer','inserted_by','inserted_on','inserted_comment','updated_by','updated_on', 'updated_comment','_columntype' ,'_columnfeed']]"
   ]
  },
  {
   "cell_type": "code",
   "execution_count": 117,
   "id": "22c357b1-2967-4352-b580-38de1fa96fe4",
   "metadata": {},
   "outputs": [
    {
     "data": {
      "text/plain": [
       "['id',\n",
       " '_env_dw',\n",
       " '_env_type',\n",
       " '_env_dbtype',\n",
       " '_host',\n",
       " '_database',\n",
       " '_schema',\n",
       " '_table',\n",
       " '_column',\n",
       " '_columnlength',\n",
       " 'sensitive_data_type',\n",
       " 'is_ready_for_encryption',\n",
       " 'is_encrypted',\n",
       " 'encryption_start',\n",
       " 'encryption_end',\n",
       " 'encrypted_row_count',\n",
       " 'code_message',\n",
       " 'is_encryption_confirmed',\n",
       " 'encryption_audit_by',\n",
       " 'encryption_audit_on',\n",
       " 'encryption_audit_comment',\n",
       " 'is_ready_for_transfer',\n",
       " 'inserted_by',\n",
       " 'inserted_on',\n",
       " 'inserted_comment',\n",
       " 'updated_by',\n",
       " 'updated_on',\n",
       " 'updated_comment',\n",
       " '_columntype',\n",
       " '_columnfeed']"
      ]
     },
     "execution_count": 117,
     "metadata": {},
     "output_type": "execute_result"
    }
   ],
   "source": [
    "list(df['gaia'].columns)"
   ]
  },
  {
   "cell_type": "code",
   "execution_count": 41,
   "id": "da42743d-d060-4e2c-bb3e-fe60b1cebb9f",
   "metadata": {},
   "outputs": [],
   "source": [
    "df['gaia'] = df['gaia'][df['gaia']['sensitive_data_type'].notnull()]"
   ]
  },
  {
   "cell_type": "code",
   "execution_count": 118,
   "id": "ff9dede8-edd2-45ca-ba83-ed5165f426fa",
   "metadata": {},
   "outputs": [
    {
     "data": {
      "text/html": [
       "<div>\n",
       "<style scoped>\n",
       "    .dataframe tbody tr th:only-of-type {\n",
       "        vertical-align: middle;\n",
       "    }\n",
       "\n",
       "    .dataframe tbody tr th {\n",
       "        vertical-align: top;\n",
       "    }\n",
       "\n",
       "    .dataframe thead th {\n",
       "        text-align: right;\n",
       "    }\n",
       "</style>\n",
       "<table border=\"1\" class=\"dataframe\">\n",
       "  <thead>\n",
       "    <tr style=\"text-align: right;\">\n",
       "      <th></th>\n",
       "      <th>id</th>\n",
       "      <th>_env_dw</th>\n",
       "      <th>_env_type</th>\n",
       "      <th>_env_dbtype</th>\n",
       "      <th>_host</th>\n",
       "      <th>_database</th>\n",
       "      <th>_schema</th>\n",
       "      <th>_table</th>\n",
       "      <th>_column</th>\n",
       "      <th>_columnlength</th>\n",
       "      <th>...</th>\n",
       "      <th>encryption_audit_comment</th>\n",
       "      <th>is_ready_for_transfer</th>\n",
       "      <th>inserted_by</th>\n",
       "      <th>inserted_on</th>\n",
       "      <th>inserted_comment</th>\n",
       "      <th>updated_by</th>\n",
       "      <th>updated_on</th>\n",
       "      <th>updated_comment</th>\n",
       "      <th>_columntype</th>\n",
       "      <th>_columnfeed</th>\n",
       "    </tr>\n",
       "  </thead>\n",
       "  <tbody>\n",
       "    <tr>\n",
       "      <th>2</th>\n",
       "      <td>None</td>\n",
       "      <td>utah</td>\n",
       "      <td>OLTP</td>\n",
       "      <td>postgres</td>\n",
       "      <td>hintdb-atlas.cluster-ro-cxfeateo6sft.us-east-1...</td>\n",
       "      <td>utah-gaia</td>\n",
       "      <td>public</td>\n",
       "      <td>account</td>\n",
       "      <td>bank_name</td>\n",
       "      <td>255.0</td>\n",
       "      <td>...</td>\n",
       "      <td>None</td>\n",
       "      <td>False</td>\n",
       "      <td>joe.shea@revance.com</td>\n",
       "      <td>None</td>\n",
       "      <td>https://hintmd.atlassian.net/browse/OTECH-2685</td>\n",
       "      <td>joe.shea@revance.com</td>\n",
       "      <td>None</td>\n",
       "      <td>None</td>\n",
       "      <td>character varying</td>\n",
       "      <td>None</td>\n",
       "    </tr>\n",
       "    <tr>\n",
       "      <th>3</th>\n",
       "      <td>None</td>\n",
       "      <td>utah</td>\n",
       "      <td>OLTP</td>\n",
       "      <td>postgres</td>\n",
       "      <td>hintdb-atlas.cluster-ro-cxfeateo6sft.us-east-1...</td>\n",
       "      <td>utah-gaia</td>\n",
       "      <td>public</td>\n",
       "      <td>account</td>\n",
       "      <td>bank_account</td>\n",
       "      <td>255.0</td>\n",
       "      <td>...</td>\n",
       "      <td>None</td>\n",
       "      <td>False</td>\n",
       "      <td>joe.shea@revance.com</td>\n",
       "      <td>None</td>\n",
       "      <td>https://hintmd.atlassian.net/browse/OTECH-2685</td>\n",
       "      <td>joe.shea@revance.com</td>\n",
       "      <td>None</td>\n",
       "      <td>None</td>\n",
       "      <td>character varying</td>\n",
       "      <td>None</td>\n",
       "    </tr>\n",
       "    <tr>\n",
       "      <th>4</th>\n",
       "      <td>None</td>\n",
       "      <td>utah</td>\n",
       "      <td>OLTP</td>\n",
       "      <td>postgres</td>\n",
       "      <td>hintdb-atlas.cluster-ro-cxfeateo6sft.us-east-1...</td>\n",
       "      <td>utah-gaia</td>\n",
       "      <td>public</td>\n",
       "      <td>account</td>\n",
       "      <td>bank_routing</td>\n",
       "      <td>255.0</td>\n",
       "      <td>...</td>\n",
       "      <td>None</td>\n",
       "      <td>False</td>\n",
       "      <td>joe.shea@revance.com</td>\n",
       "      <td>None</td>\n",
       "      <td>https://hintmd.atlassian.net/browse/OTECH-2685</td>\n",
       "      <td>joe.shea@revance.com</td>\n",
       "      <td>None</td>\n",
       "      <td>None</td>\n",
       "      <td>character varying</td>\n",
       "      <td>None</td>\n",
       "    </tr>\n",
       "    <tr>\n",
       "      <th>5</th>\n",
       "      <td>None</td>\n",
       "      <td>utah</td>\n",
       "      <td>OLTP</td>\n",
       "      <td>postgres</td>\n",
       "      <td>hintdb-atlas.cluster-ro-cxfeateo6sft.us-east-1...</td>\n",
       "      <td>utah-gaia</td>\n",
       "      <td>public</td>\n",
       "      <td>account</td>\n",
       "      <td>identifier</td>\n",
       "      <td>255.0</td>\n",
       "      <td>...</td>\n",
       "      <td>None</td>\n",
       "      <td>False</td>\n",
       "      <td>joe.shea@revance.com</td>\n",
       "      <td>None</td>\n",
       "      <td>https://hintmd.atlassian.net/browse/OTECH-2685</td>\n",
       "      <td>joe.shea@revance.com</td>\n",
       "      <td>None</td>\n",
       "      <td>None</td>\n",
       "      <td>character varying</td>\n",
       "      <td>None</td>\n",
       "    </tr>\n",
       "    <tr>\n",
       "      <th>24</th>\n",
       "      <td>None</td>\n",
       "      <td>utah</td>\n",
       "      <td>OLTP</td>\n",
       "      <td>postgres</td>\n",
       "      <td>hintdb-atlas.cluster-ro-cxfeateo6sft.us-east-1...</td>\n",
       "      <td>utah-gaia</td>\n",
       "      <td>public</td>\n",
       "      <td>address</td>\n",
       "      <td>name</td>\n",
       "      <td>NaN</td>\n",
       "      <td>...</td>\n",
       "      <td>None</td>\n",
       "      <td>False</td>\n",
       "      <td>joe.shea@revance.com</td>\n",
       "      <td>None</td>\n",
       "      <td>https://hintmd.atlassian.net/browse/OTECH-2685</td>\n",
       "      <td>joe.shea@revance.com</td>\n",
       "      <td>None</td>\n",
       "      <td>None</td>\n",
       "      <td>text</td>\n",
       "      <td>None</td>\n",
       "    </tr>\n",
       "  </tbody>\n",
       "</table>\n",
       "<p>5 rows × 30 columns</p>\n",
       "</div>"
      ],
      "text/plain": [
       "      id _env_dw _env_type _env_dbtype  \\\n",
       "2   None    utah      OLTP    postgres   \n",
       "3   None    utah      OLTP    postgres   \n",
       "4   None    utah      OLTP    postgres   \n",
       "5   None    utah      OLTP    postgres   \n",
       "24  None    utah      OLTP    postgres   \n",
       "\n",
       "                                                _host  _database _schema  \\\n",
       "2   hintdb-atlas.cluster-ro-cxfeateo6sft.us-east-1...  utah-gaia  public   \n",
       "3   hintdb-atlas.cluster-ro-cxfeateo6sft.us-east-1...  utah-gaia  public   \n",
       "4   hintdb-atlas.cluster-ro-cxfeateo6sft.us-east-1...  utah-gaia  public   \n",
       "5   hintdb-atlas.cluster-ro-cxfeateo6sft.us-east-1...  utah-gaia  public   \n",
       "24  hintdb-atlas.cluster-ro-cxfeateo6sft.us-east-1...  utah-gaia  public   \n",
       "\n",
       "     _table       _column  _columnlength  ... encryption_audit_comment  \\\n",
       "2   account     bank_name          255.0  ...                     None   \n",
       "3   account  bank_account          255.0  ...                     None   \n",
       "4   account  bank_routing          255.0  ...                     None   \n",
       "5   account    identifier          255.0  ...                     None   \n",
       "24  address          name            NaN  ...                     None   \n",
       "\n",
       "    is_ready_for_transfer           inserted_by inserted_on  \\\n",
       "2                   False  joe.shea@revance.com        None   \n",
       "3                   False  joe.shea@revance.com        None   \n",
       "4                   False  joe.shea@revance.com        None   \n",
       "5                   False  joe.shea@revance.com        None   \n",
       "24                  False  joe.shea@revance.com        None   \n",
       "\n",
       "                                  inserted_comment            updated_by  \\\n",
       "2   https://hintmd.atlassian.net/browse/OTECH-2685  joe.shea@revance.com   \n",
       "3   https://hintmd.atlassian.net/browse/OTECH-2685  joe.shea@revance.com   \n",
       "4   https://hintmd.atlassian.net/browse/OTECH-2685  joe.shea@revance.com   \n",
       "5   https://hintmd.atlassian.net/browse/OTECH-2685  joe.shea@revance.com   \n",
       "24  https://hintmd.atlassian.net/browse/OTECH-2685  joe.shea@revance.com   \n",
       "\n",
       "   updated_on  updated_comment        _columntype _columnfeed  \n",
       "2        None             None  character varying        None  \n",
       "3        None             None  character varying        None  \n",
       "4        None             None  character varying        None  \n",
       "5        None             None  character varying        None  \n",
       "24       None             None               text        None  \n",
       "\n",
       "[5 rows x 30 columns]"
      ]
     },
     "execution_count": 118,
     "metadata": {},
     "output_type": "execute_result"
    }
   ],
   "source": [
    "df['gaia'].head()"
   ]
  },
  {
   "cell_type": "code",
   "execution_count": 143,
   "id": "0d528a2e-1e8f-4c2d-b850-c227073d0207",
   "metadata": {},
   "outputs": [
    {
     "data": {
      "text/html": [
       "<div>\n",
       "<style scoped>\n",
       "    .dataframe tbody tr th:only-of-type {\n",
       "        vertical-align: middle;\n",
       "    }\n",
       "\n",
       "    .dataframe tbody tr th {\n",
       "        vertical-align: top;\n",
       "    }\n",
       "\n",
       "    .dataframe thead th {\n",
       "        text-align: right;\n",
       "    }\n",
       "</style>\n",
       "<table border=\"1\" class=\"dataframe\">\n",
       "  <thead>\n",
       "    <tr style=\"text-align: right;\">\n",
       "      <th></th>\n",
       "      <th>id</th>\n",
       "      <th>_env_dw</th>\n",
       "      <th>_env_type</th>\n",
       "      <th>_env_dbtype</th>\n",
       "      <th>_host</th>\n",
       "      <th>_database</th>\n",
       "      <th>_schema</th>\n",
       "      <th>_table</th>\n",
       "      <th>_column</th>\n",
       "      <th>_columnlength</th>\n",
       "      <th>...</th>\n",
       "      <th>encryption_audit_comment</th>\n",
       "      <th>is_ready_for_transfer</th>\n",
       "      <th>inserted_by</th>\n",
       "      <th>inserted_on</th>\n",
       "      <th>inserted_comment</th>\n",
       "      <th>updated_by</th>\n",
       "      <th>updated_on</th>\n",
       "      <th>updated_comment</th>\n",
       "      <th>_columntype</th>\n",
       "      <th>_columnfeed</th>\n",
       "    </tr>\n",
       "  </thead>\n",
       "  <tbody>\n",
       "    <tr>\n",
       "      <th>617</th>\n",
       "      <td>None</td>\n",
       "      <td>utah</td>\n",
       "      <td>OLTP</td>\n",
       "      <td>postgres</td>\n",
       "      <td>hintdb-atlas.cluster-ro-cxfeateo6sft.us-east-1...</td>\n",
       "      <td>utah-gaia</td>\n",
       "      <td>public</td>\n",
       "      <td>product</td>\n",
       "      <td>name</td>\n",
       "      <td>0</td>\n",
       "      <td>...</td>\n",
       "      <td>None</td>\n",
       "      <td>False</td>\n",
       "      <td>joe.shea@revance.com</td>\n",
       "      <td>None</td>\n",
       "      <td>https://hintmd.atlassian.net/browse/OTECH-2685</td>\n",
       "      <td>joe.shea@revance.com</td>\n",
       "      <td>None</td>\n",
       "      <td>None</td>\n",
       "      <td>text</td>\n",
       "      <td>None</td>\n",
       "    </tr>\n",
       "    <tr>\n",
       "      <th>633</th>\n",
       "      <td>None</td>\n",
       "      <td>utah</td>\n",
       "      <td>OLTP</td>\n",
       "      <td>postgres</td>\n",
       "      <td>hintdb-atlas.cluster-ro-cxfeateo6sft.us-east-1...</td>\n",
       "      <td>utah-gaia</td>\n",
       "      <td>public</td>\n",
       "      <td>provider</td>\n",
       "      <td>name</td>\n",
       "      <td>0</td>\n",
       "      <td>...</td>\n",
       "      <td>None</td>\n",
       "      <td>False</td>\n",
       "      <td>joe.shea@revance.com</td>\n",
       "      <td>None</td>\n",
       "      <td>https://hintmd.atlassian.net/browse/OTECH-2685</td>\n",
       "      <td>joe.shea@revance.com</td>\n",
       "      <td>None</td>\n",
       "      <td>None</td>\n",
       "      <td>text</td>\n",
       "      <td>None</td>\n",
       "    </tr>\n",
       "    <tr>\n",
       "      <th>685</th>\n",
       "      <td>None</td>\n",
       "      <td>utah</td>\n",
       "      <td>OLTP</td>\n",
       "      <td>postgres</td>\n",
       "      <td>hintdb-atlas.cluster-ro-cxfeateo6sft.us-east-1...</td>\n",
       "      <td>utah-gaia</td>\n",
       "      <td>public</td>\n",
       "      <td>refund</td>\n",
       "      <td>reason</td>\n",
       "      <td>0</td>\n",
       "      <td>...</td>\n",
       "      <td>None</td>\n",
       "      <td>False</td>\n",
       "      <td>joe.shea@revance.com</td>\n",
       "      <td>None</td>\n",
       "      <td>https://hintmd.atlassian.net/browse/OTECH-2685</td>\n",
       "      <td>joe.shea@revance.com</td>\n",
       "      <td>None</td>\n",
       "      <td>None</td>\n",
       "      <td>text</td>\n",
       "      <td>None</td>\n",
       "    </tr>\n",
       "    <tr>\n",
       "      <th>717</th>\n",
       "      <td>None</td>\n",
       "      <td>utah</td>\n",
       "      <td>OLTP</td>\n",
       "      <td>postgres</td>\n",
       "      <td>hintdb-atlas.cluster-ro-cxfeateo6sft.us-east-1...</td>\n",
       "      <td>utah-gaia</td>\n",
       "      <td>public</td>\n",
       "      <td>refund_transaction</td>\n",
       "      <td>last4</td>\n",
       "      <td>10</td>\n",
       "      <td>...</td>\n",
       "      <td>None</td>\n",
       "      <td>False</td>\n",
       "      <td>joe.shea@revance.com</td>\n",
       "      <td>None</td>\n",
       "      <td>https://hintmd.atlassian.net/browse/OTECH-2685</td>\n",
       "      <td>joe.shea@revance.com</td>\n",
       "      <td>None</td>\n",
       "      <td>None</td>\n",
       "      <td>character varying</td>\n",
       "      <td>None</td>\n",
       "    </tr>\n",
       "    <tr>\n",
       "      <th>785</th>\n",
       "      <td>None</td>\n",
       "      <td>utah</td>\n",
       "      <td>OLTP</td>\n",
       "      <td>postgres</td>\n",
       "      <td>hintdb-atlas.cluster-ro-cxfeateo6sft.us-east-1...</td>\n",
       "      <td>utah-gaia</td>\n",
       "      <td>public</td>\n",
       "      <td>subscription</td>\n",
       "      <td>name</td>\n",
       "      <td>0</td>\n",
       "      <td>...</td>\n",
       "      <td>None</td>\n",
       "      <td>False</td>\n",
       "      <td>joe.shea@revance.com</td>\n",
       "      <td>None</td>\n",
       "      <td>https://hintmd.atlassian.net/browse/OTECH-2685</td>\n",
       "      <td>joe.shea@revance.com</td>\n",
       "      <td>None</td>\n",
       "      <td>None</td>\n",
       "      <td>text</td>\n",
       "      <td>None</td>\n",
       "    </tr>\n",
       "  </tbody>\n",
       "</table>\n",
       "<p>5 rows × 30 columns</p>\n",
       "</div>"
      ],
      "text/plain": [
       "       id _env_dw _env_type _env_dbtype  \\\n",
       "617  None    utah      OLTP    postgres   \n",
       "633  None    utah      OLTP    postgres   \n",
       "685  None    utah      OLTP    postgres   \n",
       "717  None    utah      OLTP    postgres   \n",
       "785  None    utah      OLTP    postgres   \n",
       "\n",
       "                                                 _host  _database _schema  \\\n",
       "617  hintdb-atlas.cluster-ro-cxfeateo6sft.us-east-1...  utah-gaia  public   \n",
       "633  hintdb-atlas.cluster-ro-cxfeateo6sft.us-east-1...  utah-gaia  public   \n",
       "685  hintdb-atlas.cluster-ro-cxfeateo6sft.us-east-1...  utah-gaia  public   \n",
       "717  hintdb-atlas.cluster-ro-cxfeateo6sft.us-east-1...  utah-gaia  public   \n",
       "785  hintdb-atlas.cluster-ro-cxfeateo6sft.us-east-1...  utah-gaia  public   \n",
       "\n",
       "                 _table _column  _columnlength  ... encryption_audit_comment  \\\n",
       "617             product    name              0  ...                     None   \n",
       "633            provider    name              0  ...                     None   \n",
       "685              refund  reason              0  ...                     None   \n",
       "717  refund_transaction   last4             10  ...                     None   \n",
       "785        subscription    name              0  ...                     None   \n",
       "\n",
       "     is_ready_for_transfer           inserted_by inserted_on  \\\n",
       "617                  False  joe.shea@revance.com        None   \n",
       "633                  False  joe.shea@revance.com        None   \n",
       "685                  False  joe.shea@revance.com        None   \n",
       "717                  False  joe.shea@revance.com        None   \n",
       "785                  False  joe.shea@revance.com        None   \n",
       "\n",
       "                                   inserted_comment            updated_by  \\\n",
       "617  https://hintmd.atlassian.net/browse/OTECH-2685  joe.shea@revance.com   \n",
       "633  https://hintmd.atlassian.net/browse/OTECH-2685  joe.shea@revance.com   \n",
       "685  https://hintmd.atlassian.net/browse/OTECH-2685  joe.shea@revance.com   \n",
       "717  https://hintmd.atlassian.net/browse/OTECH-2685  joe.shea@revance.com   \n",
       "785  https://hintmd.atlassian.net/browse/OTECH-2685  joe.shea@revance.com   \n",
       "\n",
       "    updated_on  updated_comment        _columntype _columnfeed  \n",
       "617       None             None               text        None  \n",
       "633       None             None               text        None  \n",
       "685       None             None               text        None  \n",
       "717       None             None  character varying        None  \n",
       "785       None             None               text        None  \n",
       "\n",
       "[5 rows x 30 columns]"
      ]
     },
     "execution_count": 143,
     "metadata": {},
     "output_type": "execute_result"
    }
   ],
   "source": [
    "df['gaia'].tail()"
   ]
  },
  {
   "cell_type": "code",
   "execution_count": 44,
   "id": "a7065600-43c7-4bbc-bc4f-4d648c2d8799",
   "metadata": {},
   "outputs": [],
   "source": [
    "df['gaia'] = df['gaia'][~df['gaia']['sensitive_data_type'].isin(['all ready encrypted'])]"
   ]
  },
  {
   "cell_type": "code",
   "execution_count": 130,
   "id": "6439ce4c-58c7-4469-bd13-934f16a07910",
   "metadata": {},
   "outputs": [
    {
     "data": {
      "text/plain": [
       "sensitive_data_type\n",
       "UNCATEGORIZED          23\n",
       "PII                    11\n",
       "PCI                     4\n",
       "dtype: int64"
      ]
     },
     "execution_count": 130,
     "metadata": {},
     "output_type": "execute_result"
    }
   ],
   "source": [
    "df['gaia'].value_counts(subset=['sensitive_data_type'],dropna=False) "
   ]
  },
  {
   "cell_type": "code",
   "execution_count": 160,
   "id": "e08eebaf-215d-4ac9-8208-633d1fdfd1dd",
   "metadata": {},
   "outputs": [
    {
     "data": {
      "text/plain": [
       "_columnlength\n",
       "0                34\n",
       "4                 2\n",
       "8                 1\n",
       "10                1\n",
       "dtype: int64"
      ]
     },
     "execution_count": 160,
     "metadata": {},
     "output_type": "execute_result"
    }
   ],
   "source": [
    "df['gaia'].value_counts(subset=['_columnlength'],dropna=False) "
   ]
  },
  {
   "cell_type": "code",
   "execution_count": 156,
   "id": "201c0517-e476-4781-861d-16ccb13f761b",
   "metadata": {},
   "outputs": [],
   "source": [
    "mask_columnlength = df['gaia']['_columnlength'] < 0"
   ]
  },
  {
   "cell_type": "code",
   "execution_count": 157,
   "id": "7eb453f9-97f2-4e6c-8c17-1cd1e891b713",
   "metadata": {},
   "outputs": [],
   "source": [
    "mask_columnlength_name = '_columnlength'"
   ]
  },
  {
   "cell_type": "code",
   "execution_count": 159,
   "id": "dbe510e2-8c4e-4946-9a3b-6367570cba4a",
   "metadata": {},
   "outputs": [],
   "source": [
    "df['gaia'].loc[mask_columnlength,mask_columnlength_name] = 0"
   ]
  },
  {
   "cell_type": "code",
   "execution_count": 134,
   "id": "29a93a2d-9985-4045-af9e-3c62e5549535",
   "metadata": {},
   "outputs": [],
   "source": [
    "df['gaia']['_columnlength']=df['gaia']['_columnlength'].fillna(0)"
   ]
  },
  {
   "cell_type": "code",
   "execution_count": 138,
   "id": "2bccf47f-1185-4960-b9d5-8fadb84c7b79",
   "metadata": {},
   "outputs": [],
   "source": [
    "df['gaia']['_columnlength']=df['gaia']['_columnlength'].astype(np.int8)"
   ]
  },
  {
   "cell_type": "code",
   "execution_count": 162,
   "id": "c8319d4d-9917-411a-a0d6-a0a1e87d9966",
   "metadata": {},
   "outputs": [],
   "source": [
    "df['gaia'].drop('id', axis=1, inplace=True)"
   ]
  },
  {
   "cell_type": "code",
   "execution_count": 163,
   "id": "7f9a596d-56af-4d1e-baa2-d28864a6620d",
   "metadata": {},
   "outputs": [
    {
     "name": "stdout",
     "output_type": "stream",
     "text": [
      "<class 'pandas.core.frame.DataFrame'>\n",
      "Int64Index: 38 entries, 2 to 785\n",
      "Data columns (total 29 columns):\n",
      " #   Column                    Non-Null Count  Dtype \n",
      "---  ------                    --------------  ----- \n",
      " 0   _env_dw                   38 non-null     object\n",
      " 1   _env_type                 38 non-null     object\n",
      " 2   _env_dbtype               38 non-null     object\n",
      " 3   _host                     38 non-null     object\n",
      " 4   _database                 38 non-null     object\n",
      " 5   _schema                   38 non-null     object\n",
      " 6   _table                    38 non-null     object\n",
      " 7   _column                   38 non-null     object\n",
      " 8   _columnlength             38 non-null     int8  \n",
      " 9   sensitive_data_type       38 non-null     object\n",
      " 10  is_ready_for_encryption   38 non-null     bool  \n",
      " 11  is_encrypted              38 non-null     bool  \n",
      " 12  encryption_start          0 non-null      object\n",
      " 13  encryption_end            0 non-null      object\n",
      " 14  encrypted_row_count       0 non-null      object\n",
      " 15  code_message              0 non-null      object\n",
      " 16  is_encryption_confirmed   38 non-null     bool  \n",
      " 17  encryption_audit_by       0 non-null      object\n",
      " 18  encryption_audit_on       0 non-null      object\n",
      " 19  encryption_audit_comment  0 non-null      object\n",
      " 20  is_ready_for_transfer     38 non-null     bool  \n",
      " 21  inserted_by               38 non-null     object\n",
      " 22  inserted_on               0 non-null      object\n",
      " 23  inserted_comment          38 non-null     object\n",
      " 24  updated_by                38 non-null     object\n",
      " 25  updated_on                0 non-null      object\n",
      " 26  updated_comment           0 non-null      object\n",
      " 27  _columntype               38 non-null     object\n",
      " 28  _columnfeed               0 non-null      object\n",
      "dtypes: bool(4), int8(1), object(24)\n",
      "memory usage: 7.6+ KB\n"
     ]
    }
   ],
   "source": [
    "df['gaia'].info()"
   ]
  },
  {
   "cell_type": "code",
   "execution_count": 146,
   "id": "2552272f-f193-4b8a-bb17-61a70a7d8c32",
   "metadata": {},
   "outputs": [],
   "source": [
    "_compressionOut ='None'"
   ]
  },
  {
   "cell_type": "code",
   "execution_count": 147,
   "id": "d9921d85-58d9-431c-b312-c6450b4cf020",
   "metadata": {},
   "outputs": [],
   "source": [
    "#_fileout_suffix = 'parquet'"
   ]
  },
  {
   "cell_type": "code",
   "execution_count": 151,
   "id": "d44cd825-003b-4be5-bbba-f7b293374ca7",
   "metadata": {},
   "outputs": [],
   "source": [
    "_fileout_suffix = 'csv'"
   ]
  },
  {
   "cell_type": "code",
   "execution_count": 152,
   "id": "75b34629-44a9-44e8-b51a-f52150c6d637",
   "metadata": {},
   "outputs": [],
   "source": [
    "_fileout = _filesplit[0]+'_'+_currentService+'.'+_compressionOut+'.'+_fileout_suffix"
   ]
  },
  {
   "cell_type": "code",
   "execution_count": 153,
   "id": "44538280-bbe3-4f9d-84d3-7bceb5e4670d",
   "metadata": {},
   "outputs": [
    {
     "name": "stderr",
     "output_type": "stream",
     "text": [
      "2021-12-04 15:38:01,056 __main__ INFO file out for s3:OLTP_20211124_gaia.None.csv\n"
     ]
    }
   ],
   "source": [
    "logger.info(f'file out for s3:{_fileout}')"
   ]
  },
  {
   "cell_type": "code",
   "execution_count": 150,
   "id": "bc1f44f5-a2f5-43ed-a843-fa156a6bb4df",
   "metadata": {},
   "outputs": [],
   "source": [
    "#df['gaia'].to_parquet(f'{_fileout}', compression=_compressionOut, index=False)"
   ]
  },
  {
   "cell_type": "markdown",
   "id": "e15cb856-bb7b-4ecf-83c1-794fdf250aed",
   "metadata": {},
   "source": [
    "header = False"
   ]
  },
  {
   "cell_type": "code",
   "execution_count": 164,
   "id": "a749c8ac-6eb1-4030-b689-02dabad2fecb",
   "metadata": {},
   "outputs": [],
   "source": [
    "df['gaia'].to_csv(f'{_fileout}',index=False)"
   ]
  },
  {
   "cell_type": "code",
   "execution_count": null,
   "id": "9e8924cd-04e9-452f-9830-8ee140a78da2",
   "metadata": {},
   "outputs": [],
   "source": []
  }
 ],
 "metadata": {
  "kernelspec": {
   "display_name": "Python 3 (ipykernel)",
   "language": "python",
   "name": "python3"
  },
  "language_info": {
   "codemirror_mode": {
    "name": "ipython",
    "version": 3
   },
   "file_extension": ".py",
   "mimetype": "text/x-python",
   "name": "python",
   "nbconvert_exporter": "python",
   "pygments_lexer": "ipython3",
   "version": "3.8.9"
  }
 },
 "nbformat": 4,
 "nbformat_minor": 5
}
