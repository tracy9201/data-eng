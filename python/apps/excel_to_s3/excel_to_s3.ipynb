{
 "cells": [
  {
   "cell_type": "markdown",
   "id": "12198d2e-bc9b-4856-9b05-6d969d854f2a",
   "metadata": {},
   "source": [
    "#### _OTECH-2685-create-and-update-public.encr_"
   ]
  },
  {
   "cell_type": "markdown",
   "id": "3b32af58-01ee-4c07-a195-64af4468e161",
   "metadata": {},
   "source": [
    "https://hintmd.atlassian.net/browse/OTECH-2685"
   ]
  },
  {
   "cell_type": "markdown",
   "id": "4eb3b8ce-97fc-4227-bd2e-3f9796d7ff37",
   "metadata": {},
   "source": [
    "#### execute 00-data-anonymization-anonymize on ps env"
   ]
  },
  {
   "cell_type": "markdown",
   "id": "bc7237fe-8065-458c-b1dc-9073598a7693",
   "metadata": {},
   "source": [
    "https://hintmd.atlassian.net/browse/OTECH-2683"
   ]
  },
  {
   "cell_type": "markdown",
   "id": "dc41cc6f-e705-4952-8e69-f000286b8eff",
   "metadata": {},
   "source": [
    "#### _part 1 : write python utility to load data governance csv into s3_"
   ]
  },
  {
   "cell_type": "code",
   "execution_count": null,
   "id": "d71149a8-9efe-41ad-931d-132edd51ddbc",
   "metadata": {},
   "outputs": [],
   "source": [
    "_pocnumber = '0.0.5'"
   ]
  },
  {
   "cell_type": "code",
   "execution_count": null,
   "id": "3e8b09ca-f95a-4e23-a609-08c4c70f22c5",
   "metadata": {},
   "outputs": [],
   "source": [
    "_codename = 'excel_to_s3.ipynb'"
   ]
  },
  {
   "cell_type": "code",
   "execution_count": null,
   "id": "89eafc7c-bf86-4609-b540-cf815badc282",
   "metadata": {},
   "outputs": [],
   "source": [
    "_jiralink = 'https://hintmd.atlassian.net/browse/OTECH-2683'"
   ]
  },
  {
   "cell_type": "code",
   "execution_count": null,
   "id": "3d5768d6-ce74-4b0f-bc0c-fe1755eb1f56",
   "metadata": {},
   "outputs": [],
   "source": [
    "import sys\n",
    "import json\n",
    "import os \n",
    "import logging\n",
    "import xlrd\n",
    "import pandas as pd\n",
    "import numpy as np\n",
    "import platform\n",
    "import pytz"
   ]
  },
  {
   "cell_type": "code",
   "execution_count": null,
   "id": "e1d9fe86-3ca6-4599-86c7-2b7f49f3c56c",
   "metadata": {},
   "outputs": [],
   "source": [
    "from typing import cast, Sequence, Optional, Any, Dict, List, Union\n",
    "from datetime import datetime, timezone\n",
    "from pprint import pprint"
   ]
  },
  {
   "cell_type": "code",
   "execution_count": null,
   "id": "5f4cfaf7-c759-4d70-905d-a49fe0d40b2b",
   "metadata": {},
   "outputs": [],
   "source": [
    "logging.basicConfig(stream=sys.stdout,level=logging.INFO)\n",
    "logger = logging.getLogger(__name__)\n",
    "handler = logging.StreamHandler()\n",
    "formatter = logging.Formatter(\n",
    "        '%(asctime)s %(name)s %(levelname)s %(message)s')\n",
    "handler.setFormatter(formatter)\n",
    "logger.addHandler(handler)\n",
    "logger.propagate = False"
   ]
  },
  {
   "cell_type": "code",
   "execution_count": null,
   "id": "12f2773e-a92f-4720-a3e4-81366a029c55",
   "metadata": {},
   "outputs": [],
   "source": [
    "_today = datetime.today()\n",
    "_today"
   ]
  },
  {
   "cell_type": "code",
   "execution_count": null,
   "id": "49c43bf0-cc70-47bd-9bfa-f6a7f09e1337",
   "metadata": {},
   "outputs": [],
   "source": [
    "_todaywtz = datetime.utcnow().replace(tzinfo=pytz.utc)"
   ]
  },
  {
   "cell_type": "code",
   "execution_count": null,
   "id": "ec3966fa-2b57-4172-a949-9cd41b8e99bf",
   "metadata": {},
   "outputs": [],
   "source": [
    "_todaywtz"
   ]
  },
  {
   "cell_type": "code",
   "execution_count": null,
   "id": "a0290f05-ca24-4ea3-8345-b00eeeb9f9bf",
   "metadata": {},
   "outputs": [],
   "source": [
    "_nowwtz = datetime.now().astimezone()"
   ]
  },
  {
   "cell_type": "code",
   "execution_count": null,
   "id": "68b386d6-3481-4be7-921a-ffa6fd95113e",
   "metadata": {},
   "outputs": [],
   "source": [
    "_nowwtz"
   ]
  },
  {
   "cell_type": "code",
   "execution_count": null,
   "id": "1869ff55-ee75-4b1a-b4a1-3355b1e84d35",
   "metadata": {},
   "outputs": [],
   "source": [
    "logger.info(f'test logger.info,code name:{_codename}, poc#:{_pocnumber}, time:{_nowwtz}')"
   ]
  },
  {
   "cell_type": "code",
   "execution_count": null,
   "id": "8166d47e-23ae-4da8-a6f9-9c32d9d76d5f",
   "metadata": {},
   "outputs": [],
   "source": [
    "_dir = os.getcwd()"
   ]
  },
  {
   "cell_type": "code",
   "execution_count": null,
   "id": "3e5997d6-bdcc-45d0-84eb-4d70158712aa",
   "metadata": {},
   "outputs": [],
   "source": [
    "logger.info(f'current working directory {_dir}')"
   ]
  },
  {
   "cell_type": "code",
   "execution_count": null,
   "id": "2e538451-5c3e-470b-876b-b00f64321a3f",
   "metadata": {},
   "outputs": [],
   "source": [
    "def get_script_path():\n",
    "    return os.path.dirname(os.path.realpath(sys.argv[0]))"
   ]
  },
  {
   "cell_type": "code",
   "execution_count": null,
   "id": "8073aa0b-f3d7-4069-b1f1-1bd50eb1c3df",
   "metadata": {},
   "outputs": [],
   "source": [
    "_scriptpath = get_script_path()"
   ]
  },
  {
   "cell_type": "code",
   "execution_count": null,
   "id": "dd9d44a9-29d7-479e-a9cb-c5b9c1cf7a51",
   "metadata": {},
   "outputs": [],
   "source": [
    "logger.info(f'script path {_scriptpath}')"
   ]
  },
  {
   "cell_type": "code",
   "execution_count": null,
   "id": "556ac853-bec3-496a-a323-0019a868541a",
   "metadata": {},
   "outputs": [],
   "source": [
    "logger.info(f'Python version: {platform.python_version()}')"
   ]
  },
  {
   "cell_type": "code",
   "execution_count": null,
   "id": "077f060b-a063-44b4-b9b7-08502a1f1fd9",
   "metadata": {},
   "outputs": [],
   "source": [
    "logger.info(f'pandas version {pd.__version__}')"
   ]
  },
  {
   "cell_type": "markdown",
   "id": "10454f94-2164-4119-8d2d-4543ac456747",
   "metadata": {},
   "source": [
    "## ***inputs***"
   ]
  },
  {
   "cell_type": "code",
   "execution_count": null,
   "id": "36cfee89-309d-4209-8aa9-b45c10c2a358",
   "metadata": {},
   "outputs": [],
   "source": [
    "_actor = 'joe.shea@revance.com'"
   ]
  },
  {
   "cell_type": "code",
   "execution_count": null,
   "id": "63b58245-861a-4113-8e43-2573d1eae8d1",
   "metadata": {},
   "outputs": [],
   "source": [
    "inserted_by = _actor"
   ]
  },
  {
   "cell_type": "code",
   "execution_count": null,
   "id": "d5b114dd-65e7-467e-93fe-668a13210775",
   "metadata": {},
   "outputs": [],
   "source": [
    "_file = 'OLTP_20211208.xlsx'"
   ]
  },
  {
   "cell_type": "code",
   "execution_count": null,
   "id": "47d9e1a8-1a30-448c-9c1f-74015b10208e",
   "metadata": {},
   "outputs": [],
   "source": [
    "_env_type = 'OLTP'"
   ]
  },
  {
   "cell_type": "code",
   "execution_count": null,
   "id": "4ea953a7-fd13-4ef8-94ff-9de0df65a6ff",
   "metadata": {},
   "outputs": [],
   "source": [
    "_env_dbtype = 'postgres'"
   ]
  },
  {
   "cell_type": "code",
   "execution_count": null,
   "id": "e92c4d45-6d07-430c-825c-5330033828b0",
   "metadata": {},
   "outputs": [],
   "source": [
    "logger.info(f'data governance file:{_file}')"
   ]
  },
  {
   "cell_type": "code",
   "execution_count": null,
   "id": "d2d66d9f-37eb-4478-ad37-a0ee43b8dd30",
   "metadata": {},
   "outputs": [],
   "source": [
    "_filesplit  =_file.split('.')"
   ]
  },
  {
   "cell_type": "code",
   "execution_count": null,
   "id": "1c4d7771-685e-4b17-910c-8f462bb4fe6f",
   "metadata": {},
   "outputs": [],
   "source": [
    "_filesplit"
   ]
  },
  {
   "cell_type": "code",
   "execution_count": null,
   "id": "9bd29c1b-ecbf-4555-b13e-a7794b14b489",
   "metadata": {},
   "outputs": [],
   "source": [
    "xls = pd.ExcelFile(f'{_dir}/{_file}')\n",
    "df = {sh.strip():xls.parse(sh) for i, sh in enumerate(xls.sheet_names)}\n",
    "df.keys()"
   ]
  },
  {
   "cell_type": "code",
   "execution_count": null,
   "id": "78bf4d70-b378-414f-90b2-40c75fe0c12f",
   "metadata": {},
   "outputs": [],
   "source": [
    "assert len(df.keys()) == 9 ,\"expecting dict_keys(['gaia', 'kronos', 'p2pe', 'merchant', 'odf', 'chargeback', 'card', 'catalog', 'payment'])\""
   ]
  },
  {
   "cell_type": "code",
   "execution_count": null,
   "id": "7c2f7ca7-4882-4028-a8cc-71742fec0b1c",
   "metadata": {},
   "outputs": [],
   "source": [
    "type(df)"
   ]
  },
  {
   "cell_type": "code",
   "execution_count": null,
   "id": "f7342d43-5f26-417b-978e-5ab5623ddee5",
   "metadata": {},
   "outputs": [],
   "source": [
    "type(df['gaia'])"
   ]
  },
  {
   "cell_type": "markdown",
   "id": "c33eb91e-fd24-4dbd-a9dd-eacb4651dbab",
   "metadata": {},
   "source": [
    "## ***input choose service by tab index, gaia = 0, kronos =1, p2pe=2, etc...***"
   ]
  },
  {
   "cell_type": "code",
   "execution_count": null,
   "id": "04ba0fea-e3bc-4de5-871e-70c47f3f2fed",
   "metadata": {},
   "outputs": [],
   "source": [
    "_currentIndex = 8"
   ]
  },
  {
   "cell_type": "code",
   "execution_count": null,
   "id": "d2b0cac9-dc48-4cae-b7ee-954c3d0363a0",
   "metadata": {},
   "outputs": [],
   "source": [
    "list(df.keys())[_currentIndex ]"
   ]
  },
  {
   "cell_type": "code",
   "execution_count": null,
   "id": "53fcbac9-2276-4a80-988c-aa6c762b88e4",
   "metadata": {},
   "outputs": [],
   "source": [
    "_currentService = list(df.keys())[_currentIndex ]"
   ]
  },
  {
   "cell_type": "code",
   "execution_count": null,
   "id": "88af20fb-d5f3-40e4-ae67-6e7cd1483a4a",
   "metadata": {},
   "outputs": [],
   "source": [
    "logger.info(f'currentService:{_currentService}')"
   ]
  },
  {
   "cell_type": "code",
   "execution_count": null,
   "id": "ec9e97d6-a81d-4e7b-8fb4-e55ed768a4f5",
   "metadata": {},
   "outputs": [],
   "source": [
    "inserted_comment = _jiralink + ':' + _codename + ':' + _pocnumber + ':' + _file +':' + _currentService"
   ]
  },
  {
   "cell_type": "code",
   "execution_count": null,
   "id": "ae879ad4-1bcd-4f99-b69a-71b913314c05",
   "metadata": {},
   "outputs": [],
   "source": [
    "logger.info(f'inserted_comment:{inserted_comment}')"
   ]
  },
  {
   "cell_type": "code",
   "execution_count": null,
   "id": "f5e14005-677b-4ddf-913c-6e00c7d4ba52",
   "metadata": {},
   "outputs": [],
   "source": [
    "df[_currentService].info()"
   ]
  },
  {
   "cell_type": "code",
   "execution_count": null,
   "id": "92ebc2ef-bff4-45a6-be86-c9654f25d5bd",
   "metadata": {},
   "outputs": [],
   "source": [
    "df[_currentService].head()"
   ]
  },
  {
   "cell_type": "code",
   "execution_count": null,
   "id": "0fa51cf6-431d-456d-8101-2a1c7f9afa15",
   "metadata": {},
   "outputs": [],
   "source": [
    "df[_currentService].tail()"
   ]
  },
  {
   "cell_type": "code",
   "execution_count": null,
   "id": "bc2e0c37-7fa5-452c-89a3-6852e49889ef",
   "metadata": {},
   "outputs": [],
   "source": [
    "list(df[_currentService].columns)"
   ]
  },
  {
   "cell_type": "code",
   "execution_count": null,
   "id": "0c3570fd-bfcb-4d44-94cd-8a7e06f55830",
   "metadata": {},
   "outputs": [],
   "source": [
    "df[_currentService].drop('comment(s)', axis=1, inplace=True)"
   ]
  },
  {
   "cell_type": "code",
   "execution_count": null,
   "id": "0f055037-7505-4e33-a5fe-ec6c3b43c9ff",
   "metadata": {},
   "outputs": [],
   "source": [
    "df[_currentService].drop('service', axis=1, inplace=True)"
   ]
  },
  {
   "cell_type": "code",
   "execution_count": null,
   "id": "6de9e83f-04dd-425a-ab47-9e706182307e",
   "metadata": {},
   "outputs": [],
   "source": [
    "_none = None"
   ]
  },
  {
   "cell_type": "markdown",
   "id": "1927b1ba-c240-4637-b3bd-f99f1f1c8ba6",
   "metadata": {},
   "source": [
    "<i>__change column names to match redshift control table__</i>"
   ]
  },
  {
   "cell_type": "markdown",
   "id": "7bf30a9e-6dc5-4d34-991d-098c7599040b",
   "metadata": {},
   "source": [
    "<i>SELECT id, \"_env_dw\", \"_env_type\", \"_env_dbtype\", \"_host\", \"_database\", \"_schema\", \"_table\", \"_column\", \"_columnlength\", sensitive_data_type, is_ready_for_encryption, is_encrypted, encryption_start, encryption_end, encrypted_row_count, code_message, is_encryption_confirmed, encryption_audit_by, encryption_audit_on, encryption_audit_comment, is_ready_for_transfer, inserted_by, inserted_on, inserted_comment, updated_by, updated_on, updated_comment, \"_columntype\", \"_columnfeed\"\n",
    "FROM public.encrypt_sensitive_data_ctl;<i/>"
   ]
  },
  {
   "cell_type": "markdown",
   "id": "e00fe50f-d0d4-45c3-9362-f5646edf4849",
   "metadata": {},
   "source": [
    "#### _rename to match control table_"
   ]
  },
  {
   "cell_type": "code",
   "execution_count": null,
   "id": "e463cecf-67b4-4999-b1fc-5bd7b2eb2a62",
   "metadata": {},
   "outputs": [],
   "source": [
    "df[_currentService].rename(columns={'host': '_host', 'env': '_env_dw','table_catalog': '_database','schemaname': '_schema','table_name': '_table','column_name': '_column','character_maximum_length': '_columnlength','sensitive_data_type': 'sensitive_data_type','data_type': '_columntype'}, inplace=True) "
   ]
  },
  {
   "cell_type": "code",
   "execution_count": null,
   "id": "d5986f67-d004-4555-a997-941b81d9a44e",
   "metadata": {},
   "outputs": [],
   "source": [
    "inserted_by"
   ]
  },
  {
   "cell_type": "code",
   "execution_count": null,
   "id": "7bf91178-5c48-4c7b-8928-1c0f28824ce6",
   "metadata": {},
   "outputs": [],
   "source": [
    "df[_currentService].insert(len(df[_currentService].columns), 'inserted_by', inserted_by )"
   ]
  },
  {
   "cell_type": "code",
   "execution_count": null,
   "id": "b90c7de1-5c6c-4146-81a5-1edffd60974c",
   "metadata": {},
   "outputs": [],
   "source": [
    "df[_currentService].insert(len(df[_currentService].columns), 'updated_by', _none )"
   ]
  },
  {
   "cell_type": "code",
   "execution_count": null,
   "id": "a3eeac37-d5bf-4e99-9291-3961ee0af49d",
   "metadata": {},
   "outputs": [],
   "source": [
    "inserted_comment"
   ]
  },
  {
   "cell_type": "code",
   "execution_count": null,
   "id": "7d380857-2328-46ae-bb17-c7e6e7c71e8c",
   "metadata": {},
   "outputs": [],
   "source": [
    "df[_currentService].insert(len(df[_currentService].columns), 'inserted_comment',  inserted_comment)"
   ]
  },
  {
   "cell_type": "code",
   "execution_count": null,
   "id": "6aaaf401-dc2d-442a-aa08-b138864b1dd4",
   "metadata": {},
   "outputs": [],
   "source": [
    "_env_type"
   ]
  },
  {
   "cell_type": "code",
   "execution_count": null,
   "id": "3624945c-6c20-4397-9aef-1187769d675e",
   "metadata": {},
   "outputs": [],
   "source": [
    "df[_currentService].insert(len(df[_currentService].columns), '_env_type',  _env_type)"
   ]
  },
  {
   "cell_type": "code",
   "execution_count": null,
   "id": "4759d0f3-f244-4f36-a278-a9367b71007e",
   "metadata": {},
   "outputs": [],
   "source": [
    " _env_dbtype"
   ]
  },
  {
   "cell_type": "code",
   "execution_count": null,
   "id": "e5bee6a2-c1bb-4978-981a-54c5cd9ed977",
   "metadata": {},
   "outputs": [],
   "source": [
    "df[_currentService].insert(len(df[_currentService].columns), '_env_dbtype',  _env_dbtype)"
   ]
  },
  {
   "cell_type": "code",
   "execution_count": null,
   "id": "00c4874b-d607-4ae4-8c23-b06ae7057ba1",
   "metadata": {},
   "outputs": [],
   "source": [
    "df[_currentService].insert(len(df[_currentService].columns), 'id',  _none)"
   ]
  },
  {
   "cell_type": "code",
   "execution_count": null,
   "id": "f2f436fb-8415-49fc-8da2-676b9a733251",
   "metadata": {},
   "outputs": [],
   "source": [
    "df[_currentService].insert(len(df[_currentService].columns), 'is_ready_for_encryption',  True)"
   ]
  },
  {
   "cell_type": "code",
   "execution_count": null,
   "id": "0794f212-46c9-41be-8299-6317ade044b0",
   "metadata": {},
   "outputs": [],
   "source": [
    "df[_currentService].insert(len(df[_currentService].columns), 'is_encrypted',  False)"
   ]
  },
  {
   "cell_type": "code",
   "execution_count": null,
   "id": "81e6a2a9-da9a-4d9e-9852-058425f323a7",
   "metadata": {},
   "outputs": [],
   "source": [
    "df[_currentService].insert(len(df[_currentService].columns), 'encryption_start',  _none)"
   ]
  },
  {
   "cell_type": "code",
   "execution_count": null,
   "id": "a70c0ff8-f888-44de-b00c-0da2ca7dacc2",
   "metadata": {},
   "outputs": [],
   "source": [
    "df[_currentService].insert(len(df[_currentService].columns), 'encryption_end', _none )"
   ]
  },
  {
   "cell_type": "code",
   "execution_count": null,
   "id": "adb2c8ca-e6f8-41c1-896e-928850dc9ca4",
   "metadata": {},
   "outputs": [],
   "source": [
    "df[_currentService].insert(len(df[_currentService].columns), 'encrypted_row_count',  _none)"
   ]
  },
  {
   "cell_type": "code",
   "execution_count": null,
   "id": "2b9100eb-b91b-4685-931d-5949d392f9e5",
   "metadata": {},
   "outputs": [],
   "source": [
    "df[_currentService].insert(len(df[_currentService].columns), 'code_message', _none )"
   ]
  },
  {
   "cell_type": "code",
   "execution_count": null,
   "id": "47ef1c60-a0a5-40d7-b499-99544a0d4936",
   "metadata": {},
   "outputs": [],
   "source": [
    "df[_currentService].insert(len(df[_currentService].columns), 'is_encryption_confirmed',False  )"
   ]
  },
  {
   "cell_type": "code",
   "execution_count": null,
   "id": "cde561cc-c79e-4bba-b55a-4e6803f4fb07",
   "metadata": {},
   "outputs": [],
   "source": [
    "df[_currentService].insert(len(df[_currentService].columns), 'encryption_audit_by', _none )"
   ]
  },
  {
   "cell_type": "code",
   "execution_count": null,
   "id": "96ccce81-f0c2-419a-8eaf-f747db9389fd",
   "metadata": {},
   "outputs": [],
   "source": [
    "df[_currentService].insert(len(df[_currentService].columns), 'encryption_audit_on', _none )"
   ]
  },
  {
   "cell_type": "code",
   "execution_count": null,
   "id": "44185d33-0716-4a81-86b3-e4ebbbdde862",
   "metadata": {},
   "outputs": [],
   "source": [
    "df[_currentService].insert(len(df[_currentService].columns), 'encryption_audit_comment', _none )"
   ]
  },
  {
   "cell_type": "code",
   "execution_count": null,
   "id": "c4489a35-8af9-41e7-b209-2eb681edf7c3",
   "metadata": {},
   "outputs": [],
   "source": [
    "df[_currentService].insert(len(df[_currentService].columns), 'is_ready_for_transfer', False )"
   ]
  },
  {
   "cell_type": "code",
   "execution_count": null,
   "id": "97e5a605-6473-402b-b888-87c88c6788f0",
   "metadata": {},
   "outputs": [],
   "source": [
    "df[_currentService].insert(len(df[_currentService].columns), 'inserted_on', _nowwtz )"
   ]
  },
  {
   "cell_type": "code",
   "execution_count": null,
   "id": "f4e010d9-cb9d-4c25-8954-536e73c25484",
   "metadata": {},
   "outputs": [],
   "source": [
    "df[_currentService].insert(len(df[_currentService].columns), 'updated_on', _none )"
   ]
  },
  {
   "cell_type": "code",
   "execution_count": null,
   "id": "5a45bada-fe58-4f88-b314-52e439758fbd",
   "metadata": {},
   "outputs": [],
   "source": [
    "df[_currentService].insert(len(df[_currentService].columns), 'updated_comment', _none )"
   ]
  },
  {
   "cell_type": "code",
   "execution_count": null,
   "id": "6d56a022-81bf-467c-9d11-54aed9237f2e",
   "metadata": {},
   "outputs": [],
   "source": [
    "df[_currentService].insert(len(df[_currentService].columns), '_columnfeed',  _none)"
   ]
  },
  {
   "cell_type": "markdown",
   "id": "bc88559c-3b81-41a2-a4a8-8f80a67bff09",
   "metadata": {},
   "source": [
    "<i> __reorder columns__ </i>"
   ]
  },
  {
   "cell_type": "code",
   "execution_count": null,
   "id": "f8a806a5-8e45-4ae7-905c-73ef4ca0cb88",
   "metadata": {},
   "outputs": [],
   "source": [
    "df[_currentService] = df[_currentService][[ 'id','_env_dw','_env_type','_env_dbtype','_host', '_database','_schema','_table','_column','_columnlength','sensitive_data_type','is_ready_for_encryption','is_encrypted','encryption_start', 'encryption_end','encrypted_row_count','code_message','is_encryption_confirmed','encryption_audit_by','encryption_audit_on','encryption_audit_comment','is_ready_for_transfer','inserted_by','inserted_on','inserted_comment','updated_by','updated_on', 'updated_comment','_columntype' ,'_columnfeed']]"
   ]
  },
  {
   "cell_type": "code",
   "execution_count": null,
   "id": "22c357b1-2967-4352-b580-38de1fa96fe4",
   "metadata": {},
   "outputs": [],
   "source": [
    "list(df[_currentService].columns)"
   ]
  },
  {
   "cell_type": "code",
   "execution_count": null,
   "id": "a989cdb1-ef23-4b31-85f0-0a94d36787e5",
   "metadata": {},
   "outputs": [],
   "source": [
    "_currentService"
   ]
  },
  {
   "cell_type": "code",
   "execution_count": null,
   "id": "da42743d-d060-4e2c-bb3e-fe60b1cebb9f",
   "metadata": {},
   "outputs": [],
   "source": [
    "df[_currentService] = df[_currentService][df[_currentService]['sensitive_data_type'].notnull()]"
   ]
  },
  {
   "cell_type": "code",
   "execution_count": null,
   "id": "ff9dede8-edd2-45ca-ba83-ed5165f426fa",
   "metadata": {},
   "outputs": [],
   "source": [
    "df[_currentService].head()"
   ]
  },
  {
   "cell_type": "code",
   "execution_count": null,
   "id": "0d528a2e-1e8f-4c2d-b850-c227073d0207",
   "metadata": {},
   "outputs": [],
   "source": [
    "df[_currentService].tail()"
   ]
  },
  {
   "cell_type": "code",
   "execution_count": null,
   "id": "a7065600-43c7-4bbc-bc4f-4d648c2d8799",
   "metadata": {},
   "outputs": [],
   "source": [
    "df[_currentService] = df[_currentService][~df[_currentService]['sensitive_data_type'].isin(['all ready encrypted'])]"
   ]
  },
  {
   "cell_type": "code",
   "execution_count": null,
   "id": "6439ce4c-58c7-4469-bd13-934f16a07910",
   "metadata": {},
   "outputs": [],
   "source": [
    "df[_currentService].value_counts(subset=['sensitive_data_type'],dropna=False) "
   ]
  },
  {
   "cell_type": "code",
   "execution_count": null,
   "id": "e08eebaf-215d-4ac9-8208-633d1fdfd1dd",
   "metadata": {},
   "outputs": [],
   "source": [
    "df[_currentService].value_counts(subset=['_columnlength'],dropna=False) "
   ]
  },
  {
   "cell_type": "code",
   "execution_count": null,
   "id": "29a93a2d-9985-4045-af9e-3c62e5549535",
   "metadata": {},
   "outputs": [],
   "source": [
    "df[_currentService]['_columnlength']=df[_currentService]['_columnlength'].fillna(0)"
   ]
  },
  {
   "cell_type": "code",
   "execution_count": null,
   "id": "2bccf47f-1185-4960-b9d5-8fadb84c7b79",
   "metadata": {},
   "outputs": [],
   "source": [
    "df[_currentService]['_columnlength']=df[_currentService]['_columnlength'].astype(np.int64)"
   ]
  },
  {
   "cell_type": "code",
   "execution_count": null,
   "id": "c8319d4d-9917-411a-a0d6-a0a1e87d9966",
   "metadata": {},
   "outputs": [],
   "source": [
    "df[_currentService].drop('id', axis=1, inplace=True)"
   ]
  },
  {
   "cell_type": "code",
   "execution_count": null,
   "id": "7f9a596d-56af-4d1e-baa2-d28864a6620d",
   "metadata": {},
   "outputs": [],
   "source": [
    "df[_currentService].info()"
   ]
  },
  {
   "cell_type": "code",
   "execution_count": null,
   "id": "96489129-24fc-4789-9ade-6303972b8598",
   "metadata": {},
   "outputs": [],
   "source": [
    "df[_currentService].head()"
   ]
  },
  {
   "cell_type": "code",
   "execution_count": null,
   "id": "2552272f-f193-4b8a-bb17-61a70a7d8c32",
   "metadata": {},
   "outputs": [],
   "source": [
    "_compressionOut ='None'"
   ]
  },
  {
   "cell_type": "code",
   "execution_count": null,
   "id": "d9921d85-58d9-431c-b312-c6450b4cf020",
   "metadata": {},
   "outputs": [],
   "source": [
    "#_fileout_suffix = 'parquet'"
   ]
  },
  {
   "cell_type": "code",
   "execution_count": null,
   "id": "d44cd825-003b-4be5-bbba-f7b293374ca7",
   "metadata": {},
   "outputs": [],
   "source": [
    "_fileout_suffix = 'csv'"
   ]
  },
  {
   "cell_type": "code",
   "execution_count": null,
   "id": "75b34629-44a9-44e8-b51a-f52150c6d637",
   "metadata": {},
   "outputs": [],
   "source": [
    "_fileout = _filesplit[0]+'_'+_currentService+'.'+_compressionOut+'.'+_fileout_suffix"
   ]
  },
  {
   "cell_type": "code",
   "execution_count": null,
   "id": "44538280-bbe3-4f9d-84d3-7bceb5e4670d",
   "metadata": {},
   "outputs": [],
   "source": [
    "logger.info(f'file out for s3:{_fileout}')"
   ]
  },
  {
   "cell_type": "code",
   "execution_count": null,
   "id": "bc1f44f5-a2f5-43ed-a843-fa156a6bb4df",
   "metadata": {},
   "outputs": [],
   "source": [
    "#df['gaia'].to_parquet(f'{_fileout}', compression=_compressionOut, index=False)"
   ]
  },
  {
   "cell_type": "markdown",
   "id": "e15cb856-bb7b-4ecf-83c1-794fdf250aed",
   "metadata": {},
   "source": [
    "header = False <br>\n",
    "_can keep header for debug purposes, but exclude header as part of the COPY command_"
   ]
  },
  {
   "cell_type": "code",
   "execution_count": null,
   "id": "a749c8ac-6eb1-4030-b689-02dabad2fecb",
   "metadata": {},
   "outputs": [],
   "source": [
    "df[_currentService].to_csv(f'{_fileout}',index=False)"
   ]
  },
  {
   "cell_type": "code",
   "execution_count": null,
   "id": "9e8924cd-04e9-452f-9830-8ee140a78da2",
   "metadata": {},
   "outputs": [],
   "source": [
    "!ls -lrt"
   ]
  },
  {
   "cell_type": "code",
   "execution_count": null,
   "id": "41e815e8-a523-4da2-8aa6-eeee9b665b91",
   "metadata": {},
   "outputs": [],
   "source": [
    "!aws s3 cp  /Users/joe.shea/excel_to_s3 s3://com-hintmd-dev-dag/dagfile --profile mfa --recursive  --exclude \"*\" --include {_fileout}"
   ]
  },
  {
   "cell_type": "code",
   "execution_count": null,
   "id": "41599008-f4c9-494d-9740-234abe546c2c",
   "metadata": {},
   "outputs": [],
   "source": [
    "!aws s3 ls s3://com-hintmd-dev-dag --profile mfa --recursive | awk 'NF>1{print $4}' | grep ."
   ]
  },
  {
   "cell_type": "code",
   "execution_count": null,
   "id": "970aafe2-9ad2-4471-9be2-2e3109456e00",
   "metadata": {},
   "outputs": [],
   "source": []
  }
 ],
 "metadata": {
  "kernelspec": {
   "display_name": "Python 3 (ipykernel)",
   "language": "python",
   "name": "python3"
  },
  "language_info": {
   "codemirror_mode": {
    "name": "ipython",
    "version": 3
   },
   "file_extension": ".py",
   "mimetype": "text/x-python",
   "name": "python",
   "nbconvert_exporter": "python",
   "pygments_lexer": "ipython3",
   "version": "3.8.9"
  }
 },
 "nbformat": 4,
 "nbformat_minor": 5
}
